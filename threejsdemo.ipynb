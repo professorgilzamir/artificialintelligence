{
  "nbformat": 4,
  "nbformat_minor": 0,
  "metadata": {
    "colab": {
      "name": "Cópia de three-js 2.ipynb",
      "provenance": [],
      "collapsed_sections": [],
      "include_colab_link": true
    },
    "kernelspec": {
      "name": "python3",
      "display_name": "Python 3"
    }
  },
  "cells": [
    {
      "cell_type": "markdown",
      "metadata": {
        "id": "view-in-github",
        "colab_type": "text"
      },
      "source": [
        "<a href=\"https://colab.research.google.com/github/professorgilzamir/artificialintelligence/blob/master/threejsdemo.ipynb\" target=\"_parent\"><img src=\"https://colab.research.google.com/assets/colab-badge.svg\" alt=\"Open In Colab\"/></a>"
      ]
    },
    {
      "cell_type": "markdown",
      "metadata": {
        "id": "fSXgQNJE9Je3"
      },
      "source": [
        "Use module syntax"
      ]
    },
    {
      "cell_type": "code",
      "metadata": {
        "id": "57cGHcqk9FZe",
        "colab": {
          "base_uri": "https://localhost:8080/",
          "height": 1000
        },
        "outputId": "dca0b8ff-6cf4-4525-d925-60ccc60e1d7e"
      },
      "source": [
        "%%html\n",
        "<div id=\"container\"></div>\n",
        "<div id=\"info\"><a href=\"https://threejs.org\" target=\"_blank\" rel=\"noopener\">three.js</a> webgl - buffergeometry - lines</div>\n",
        "\n",
        "<script type=\"module\">\n",
        "\n",
        "  import * as THREE from 'https://unpkg.com/three?module';\n",
        "\n",
        "  //import Stats from './jsm/libs/stats.module.js';\n",
        "  var container, stats;\n",
        "\n",
        "  var camera, scene, renderer;\n",
        "\n",
        "  var line;\n",
        "\n",
        "  init();\n",
        "  animate();\n",
        "\n",
        "  function init() {\n",
        "\n",
        "    container = document.getElementById( 'container' );\n",
        "\n",
        "    //\n",
        "\n",
        "    camera = new THREE.PerspectiveCamera( 27, window.innerWidth / window.innerHeight, 1, 4000 );\n",
        "    camera.position.z = 2750;\n",
        "\n",
        "    scene = new THREE.Scene();\n",
        "\n",
        "    var segments = 10000;\n",
        "\n",
        "    var geometry = new THREE.BufferGeometry();\n",
        "    var material = new THREE.LineBasicMaterial( { vertexColors: true } );\n",
        "\n",
        "    var positions = [];\n",
        "    var colors = [];\n",
        "\n",
        "    var r = 800;\n",
        "\n",
        "    for ( var i = 0; i < segments; i ++ ) {\n",
        "\n",
        "      var x = Math.random() * r - r / 2;\n",
        "      var y = Math.random() * r - r / 2;\n",
        "      var z = Math.random() * r - r / 2;\n",
        "\n",
        "      // positions\n",
        "\n",
        "      positions.push( x, y, z );\n",
        "\n",
        "      // colors\n",
        "\n",
        "      colors.push( ( x / r ) + 0.5 );\n",
        "      colors.push( ( y / r ) + 0.5 );\n",
        "      colors.push( ( z / r ) + 0.5 );\n",
        "\n",
        "    }\n",
        "\n",
        "    geometry.setAttribute( 'position', new THREE.Float32BufferAttribute( positions, 3 ) );\n",
        "    geometry.setAttribute( 'color', new THREE.Float32BufferAttribute( colors, 3 ) );\n",
        "\n",
        "    geometry.computeBoundingSphere();\n",
        "\n",
        "    line = new THREE.Line( geometry, material );\n",
        "    scene.add( line );\n",
        "\n",
        "    //\n",
        "\n",
        "    renderer = new THREE.WebGLRenderer();\n",
        "    renderer.setPixelRatio( window.devicePixelRatio );\n",
        "    renderer.setSize( window.innerWidth, window.innerHeight );\n",
        "    renderer.outputEncoding = THREE.sRGBEncoding;\n",
        "\n",
        "    container.appendChild( renderer.domElement );\n",
        "\n",
        "    //\n",
        "\n",
        "    //stats = new Stats();\n",
        "    //container.appendChild( stats.dom );\n",
        "\n",
        "    //\n",
        "\n",
        "    window.addEventListener( 'resize', onWindowResize, false );\n",
        "\n",
        "  }\n",
        "\n",
        "  function onWindowResize() {\n",
        "\n",
        "    camera.aspect = window.innerWidth / window.innerHeight;\n",
        "    camera.updateProjectionMatrix();\n",
        "\n",
        "    renderer.setSize( window.innerWidth, window.innerHeight );\n",
        "\n",
        "  }\n",
        "\n",
        "  //\n",
        "\n",
        "  function animate() {\n",
        "\n",
        "    requestAnimationFrame( animate );\n",
        "\n",
        "    render();\n",
        "    //stats.update();\n",
        "\n",
        "  }\n",
        "\n",
        "  function render() {\n",
        "\n",
        "    var time = Date.now() * 0.001;\n",
        "\n",
        "    line.rotation.x = time * 0.25;\n",
        "    line.rotation.y = time * 0.5;\n",
        "\n",
        "    renderer.render( scene, camera );\n",
        "\n",
        "  }\n",
        "</script>"
      ],
      "execution_count": 1,
      "outputs": [
        {
          "output_type": "display_data",
          "data": {
            "text/html": [
              "<div id=\"container\"></div>\n",
              "<div id=\"info\"><a href=\"https://threejs.org\" target=\"_blank\" rel=\"noopener\">three.js</a> webgl - buffergeometry - lines</div>\n",
              "\n",
              "<script type=\"module\">\n",
              "\n",
              "  import * as THREE from 'https://unpkg.com/three?module';\n",
              "\n",
              "  //import Stats from './jsm/libs/stats.module.js';\n",
              "  var container, stats;\n",
              "\n",
              "  var camera, scene, renderer;\n",
              "\n",
              "  var line;\n",
              "\n",
              "  init();\n",
              "  animate();\n",
              "\n",
              "  function init() {\n",
              "\n",
              "    container = document.getElementById( 'container' );\n",
              "\n",
              "    //\n",
              "\n",
              "    camera = new THREE.PerspectiveCamera( 27, window.innerWidth / window.innerHeight, 1, 4000 );\n",
              "    camera.position.z = 2750;\n",
              "\n",
              "    scene = new THREE.Scene();\n",
              "\n",
              "    var segments = 10000;\n",
              "\n",
              "    var geometry = new THREE.BufferGeometry();\n",
              "    var material = new THREE.LineBasicMaterial( { vertexColors: true } );\n",
              "\n",
              "    var positions = [];\n",
              "    var colors = [];\n",
              "\n",
              "    var r = 800;\n",
              "\n",
              "    for ( var i = 0; i < segments; i ++ ) {\n",
              "\n",
              "      var x = Math.random() * r - r / 2;\n",
              "      var y = Math.random() * r - r / 2;\n",
              "      var z = Math.random() * r - r / 2;\n",
              "\n",
              "      // positions\n",
              "\n",
              "      positions.push( x, y, z );\n",
              "\n",
              "      // colors\n",
              "\n",
              "      colors.push( ( x / r ) + 0.5 );\n",
              "      colors.push( ( y / r ) + 0.5 );\n",
              "      colors.push( ( z / r ) + 0.5 );\n",
              "\n",
              "    }\n",
              "\n",
              "    geometry.setAttribute( 'position', new THREE.Float32BufferAttribute( positions, 3 ) );\n",
              "    geometry.setAttribute( 'color', new THREE.Float32BufferAttribute( colors, 3 ) );\n",
              "\n",
              "    geometry.computeBoundingSphere();\n",
              "\n",
              "    line = new THREE.Line( geometry, material );\n",
              "    scene.add( line );\n",
              "\n",
              "    //\n",
              "\n",
              "    renderer = new THREE.WebGLRenderer();\n",
              "    renderer.setPixelRatio( window.devicePixelRatio );\n",
              "    renderer.setSize( window.innerWidth, window.innerHeight );\n",
              "    renderer.outputEncoding = THREE.sRGBEncoding;\n",
              "\n",
              "    container.appendChild( renderer.domElement );\n",
              "\n",
              "    //\n",
              "\n",
              "    //stats = new Stats();\n",
              "    //container.appendChild( stats.dom );\n",
              "\n",
              "    //\n",
              "\n",
              "    window.addEventListener( 'resize', onWindowResize, false );\n",
              "\n",
              "  }\n",
              "\n",
              "  function onWindowResize() {\n",
              "\n",
              "    camera.aspect = window.innerWidth / window.innerHeight;\n",
              "    camera.updateProjectionMatrix();\n",
              "\n",
              "    renderer.setSize( window.innerWidth, window.innerHeight );\n",
              "\n",
              "  }\n",
              "\n",
              "  //\n",
              "\n",
              "  function animate() {\n",
              "\n",
              "    requestAnimationFrame( animate );\n",
              "\n",
              "    render();\n",
              "    //stats.update();\n",
              "\n",
              "  }\n",
              "\n",
              "  function render() {\n",
              "\n",
              "    var time = Date.now() * 0.001;\n",
              "\n",
              "    line.rotation.x = time * 0.25;\n",
              "    line.rotation.y = time * 0.5;\n",
              "\n",
              "    renderer.render( scene, camera );\n",
              "\n",
              "  }\n",
              "</script>"
            ],
            "text/plain": [
              "<IPython.core.display.HTML object>"
            ]
          },
          "metadata": {}
        }
      ]
    },
    {
      "cell_type": "code",
      "metadata": {
        "id": "m4PTP6JC9Ypt",
        "colab": {
          "base_uri": "https://localhost:8080/",
          "height": 17
        },
        "outputId": "83a7b8d4-dd31-4586-c613-14e700def8cc"
      },
      "source": [
        "%%html\n",
        "<script type=\"module\">\n",
        "import * as THREE from 'https://unpkg.com/three?module';\n",
        "</script>"
      ],
      "execution_count": null,
      "outputs": [
        {
          "output_type": "display_data",
          "data": {
            "text/html": [
              "<script type=\"module\">\n",
              "import * as THREE from 'https://unpkg.com/three?module';\n",
              "console.log(THREE)\n",
              "</script>"
            ],
            "text/plain": [
              "<IPython.core.display.HTML object>"
            ]
          },
          "metadata": {
            "tags": []
          }
        }
      ]
    },
    {
      "cell_type": "code",
      "metadata": {
        "id": "y-D3CG9P-Nl1",
        "colab": {
          "base_uri": "https://localhost:8080/",
          "height": 17
        },
        "outputId": "7edf7d06-abf3-4f8c-cef6-0d648dd04ef0"
      },
      "source": [
        "# cannot use module yet\n",
        "%%html\n",
        "<script type=\"module\">\n",
        "import Stats from 'https://unpkg.com/stats?module';\n",
        "console.log(Stats)\n",
        "</script>"
      ],
      "execution_count": null,
      "outputs": [
        {
          "output_type": "display_data",
          "data": {
            "text/html": [
              "<script type=\"module\">\n",
              "import Stats from 'https://unpkg.com/stats?module';\n",
              "console.log(Stats)\n",
              "</script>"
            ],
            "text/plain": [
              "<IPython.core.display.HTML object>"
            ]
          },
          "metadata": {
            "tags": []
          }
        }
      ]
    },
    {
      "cell_type": "code",
      "metadata": {
        "id": "pEBi7Ro8Cmbq"
      },
      "source": [
        ""
      ],
      "execution_count": null,
      "outputs": []
    }
  ]
}